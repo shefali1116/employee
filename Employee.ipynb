{
 "cells": [
  {
   "cell_type": "code",
   "execution_count": 1,
   "metadata": {},
   "outputs": [],
   "source": [
    "import pandas as pd "
   ]
  },
  {
   "cell_type": "code",
   "execution_count": 3,
   "metadata": {},
   "outputs": [],
   "source": [
    "df=pd.read_csv(\"employee.csv\")"
   ]
  },
  {
   "cell_type": "code",
   "execution_count": 4,
   "metadata": {},
   "outputs": [
    {
     "data": {
      "text/html": [
       "<div>\n",
       "<style scoped>\n",
       "    .dataframe tbody tr th:only-of-type {\n",
       "        vertical-align: middle;\n",
       "    }\n",
       "\n",
       "    .dataframe tbody tr th {\n",
       "        vertical-align: top;\n",
       "    }\n",
       "\n",
       "    .dataframe thead th {\n",
       "        text-align: right;\n",
       "    }\n",
       "</style>\n",
       "<table border=\"1\" class=\"dataframe\">\n",
       "  <thead>\n",
       "    <tr style=\"text-align: right;\">\n",
       "      <th></th>\n",
       "      <th>Emp ID\\tName Prefix\\tFirst Name\\tMiddle Initial\\tLast Name\\tGender\\tE Mail\\tFather's Name\\tMother's Name\\tMother's Maiden Name\\tDate of Birth\\tTime of Birth\\tAge in Yrs.\\tWeight in Kgs.\\tDate of Joining\\tQuarter of Joining\\tHalf of Joining\\tYear of Joining\\tMonth of Joining\\tMonth Name of Joining\\tShort Month\\tDay of Joining\\tDOW of Joining\\tShort DOW\\tAge in Company (Years)\\tSalary\\tLast % Hike\\tSSN\\tPhone No. \\tPlace Name\\tCounty\\tCity\\tState\\tZip\\tRegion\\tUser Name\\tPassword</th>\n",
       "    </tr>\n",
       "  </thead>\n",
       "  <tbody>\n",
       "    <tr>\n",
       "      <th>0</th>\n",
       "      <td>850297\\tMs.\\tShawna\\tW\\tBuck\\tF\\tshawna.buck@g...</td>\n",
       "    </tr>\n",
       "    <tr>\n",
       "      <th>1</th>\n",
       "      <td>304721\\tMr.\\tNathaniel\\tZ\\tBurke\\tM\\tnathaniel...</td>\n",
       "    </tr>\n",
       "    <tr>\n",
       "      <th>2</th>\n",
       "      <td>412317\\tDrs.\\tElisabeth\\tW\\tFoster\\tF\\telisabe...</td>\n",
       "    </tr>\n",
       "    <tr>\n",
       "      <th>3</th>\n",
       "      <td>621375\\tMrs.\\tBriana\\tC\\tLancaster\\tF\\tbriana....</td>\n",
       "    </tr>\n",
       "    <tr>\n",
       "      <th>4</th>\n",
       "      <td>787549\\tHon.\\tEstella\\tL\\tPotter\\tF\\testella.p...</td>\n",
       "    </tr>\n",
       "  </tbody>\n",
       "</table>\n",
       "</div>"
      ],
      "text/plain": [
       "  Emp ID\\tName Prefix\\tFirst Name\\tMiddle Initial\\tLast Name\\tGender\\tE Mail\\tFather's Name\\tMother's Name\\tMother's Maiden Name\\tDate of Birth\\tTime of Birth\\tAge in Yrs.\\tWeight in Kgs.\\tDate of Joining\\tQuarter of Joining\\tHalf of Joining\\tYear of Joining\\tMonth of Joining\\tMonth Name of Joining\\tShort Month\\tDay of Joining\\tDOW of Joining\\tShort DOW\\tAge in Company (Years)\\tSalary\\tLast % Hike\\tSSN\\tPhone No. \\tPlace Name\\tCounty\\tCity\\tState\\tZip\\tRegion\\tUser Name\\tPassword\n",
       "0  850297\\tMs.\\tShawna\\tW\\tBuck\\tF\\tshawna.buck@g...                                                                                                                                                                                                                                                                                                                                                                                                                                                \n",
       "1  304721\\tMr.\\tNathaniel\\tZ\\tBurke\\tM\\tnathaniel...                                                                                                                                                                                                                                                                                                                                                                                                                                                \n",
       "2  412317\\tDrs.\\tElisabeth\\tW\\tFoster\\tF\\telisabe...                                                                                                                                                                                                                                                                                                                                                                                                                                                \n",
       "3  621375\\tMrs.\\tBriana\\tC\\tLancaster\\tF\\tbriana....                                                                                                                                                                                                                                                                                                                                                                                                                                                \n",
       "4  787549\\tHon.\\tEstella\\tL\\tPotter\\tF\\testella.p...                                                                                                                                                                                                                                                                                                                                                                                                                                                "
      ]
     },
     "execution_count": 4,
     "metadata": {},
     "output_type": "execute_result"
    }
   ],
   "source": [
    "df.head()"
   ]
  },
  {
   "cell_type": "code",
   "execution_count": 5,
   "metadata": {},
   "outputs": [
    {
     "data": {
      "text/html": [
       "<div>\n",
       "<style scoped>\n",
       "    .dataframe tbody tr th:only-of-type {\n",
       "        vertical-align: middle;\n",
       "    }\n",
       "\n",
       "    .dataframe tbody tr th {\n",
       "        vertical-align: top;\n",
       "    }\n",
       "\n",
       "    .dataframe thead th {\n",
       "        text-align: right;\n",
       "    }\n",
       "</style>\n",
       "<table border=\"1\" class=\"dataframe\">\n",
       "  <thead>\n",
       "    <tr style=\"text-align: right;\">\n",
       "      <th></th>\n",
       "      <th>Emp ID\\tName Prefix\\tFirst Name\\tMiddle Initial\\tLast Name\\tGender\\tE Mail\\tFather's Name\\tMother's Name\\tMother's Maiden Name\\tDate of Birth\\tTime of Birth\\tAge in Yrs.\\tWeight in Kgs.\\tDate of Joining\\tQuarter of Joining\\tHalf of Joining\\tYear of Joining\\tMonth of Joining\\tMonth Name of Joining\\tShort Month\\tDay of Joining\\tDOW of Joining\\tShort DOW\\tAge in Company (Years)\\tSalary\\tLast % Hike\\tSSN\\tPhone No. \\tPlace Name\\tCounty\\tCity\\tState\\tZip\\tRegion\\tUser Name\\tPassword</th>\n",
       "    </tr>\n",
       "  </thead>\n",
       "  <tbody>\n",
       "    <tr>\n",
       "      <th>995</th>\n",
       "      <td>568435\\tMs.\\tBonnie\\tK\\tBaker\\tF\\tbonnie.baker...</td>\n",
       "    </tr>\n",
       "    <tr>\n",
       "      <th>996</th>\n",
       "      <td>597409\\tMr.\\tLuke\\tS\\tTurner\\tM\\tluke.turner@c...</td>\n",
       "    </tr>\n",
       "    <tr>\n",
       "      <th>997</th>\n",
       "      <td>359608\\tHon.\\tEva\\tS\\tHolman\\tF\\teva.holman@ho...</td>\n",
       "    </tr>\n",
       "    <tr>\n",
       "      <th>998</th>\n",
       "      <td>803426\\tMrs.\\tMaritza\\tH\\tChristian\\tF\\tmaritz...</td>\n",
       "    </tr>\n",
       "    <tr>\n",
       "      <th>999</th>\n",
       "      <td>669618\\tDrs.\\tPhyllis\\tH\\tDudley\\tF\\tphyllis.d...</td>\n",
       "    </tr>\n",
       "  </tbody>\n",
       "</table>\n",
       "</div>"
      ],
      "text/plain": [
       "    Emp ID\\tName Prefix\\tFirst Name\\tMiddle Initial\\tLast Name\\tGender\\tE Mail\\tFather's Name\\tMother's Name\\tMother's Maiden Name\\tDate of Birth\\tTime of Birth\\tAge in Yrs.\\tWeight in Kgs.\\tDate of Joining\\tQuarter of Joining\\tHalf of Joining\\tYear of Joining\\tMonth of Joining\\tMonth Name of Joining\\tShort Month\\tDay of Joining\\tDOW of Joining\\tShort DOW\\tAge in Company (Years)\\tSalary\\tLast % Hike\\tSSN\\tPhone No. \\tPlace Name\\tCounty\\tCity\\tState\\tZip\\tRegion\\tUser Name\\tPassword\n",
       "995  568435\\tMs.\\tBonnie\\tK\\tBaker\\tF\\tbonnie.baker...                                                                                                                                                                                                                                                                                                                                                                                                                                                \n",
       "996  597409\\tMr.\\tLuke\\tS\\tTurner\\tM\\tluke.turner@c...                                                                                                                                                                                                                                                                                                                                                                                                                                                \n",
       "997  359608\\tHon.\\tEva\\tS\\tHolman\\tF\\teva.holman@ho...                                                                                                                                                                                                                                                                                                                                                                                                                                                \n",
       "998  803426\\tMrs.\\tMaritza\\tH\\tChristian\\tF\\tmaritz...                                                                                                                                                                                                                                                                                                                                                                                                                                                \n",
       "999  669618\\tDrs.\\tPhyllis\\tH\\tDudley\\tF\\tphyllis.d...                                                                                                                                                                                                                                                                                                                                                                                                                                                "
      ]
     },
     "execution_count": 5,
     "metadata": {},
     "output_type": "execute_result"
    }
   ],
   "source": [
    "df.tail()"
   ]
  },
  {
   "cell_type": "code",
   "execution_count": 6,
   "metadata": {},
   "outputs": [
    {
     "data": {
      "text/plain": [
       "Index(['Emp ID\\tName Prefix\\tFirst Name\\tMiddle Initial\\tLast Name\\tGender\\tE Mail\\tFather's Name\\tMother's Name\\tMother's Maiden Name\\tDate of Birth\\tTime of Birth\\tAge in Yrs.\\tWeight in Kgs.\\tDate of Joining\\tQuarter of Joining\\tHalf of Joining\\tYear of Joining\\tMonth of Joining\\tMonth Name of Joining\\tShort Month\\tDay of Joining\\tDOW of Joining\\tShort DOW\\tAge in Company (Years)\\tSalary\\tLast % Hike\\tSSN\\tPhone No. \\tPlace Name\\tCounty\\tCity\\tState\\tZip\\tRegion\\tUser Name\\tPassword'], dtype='object')"
      ]
     },
     "execution_count": 6,
     "metadata": {},
     "output_type": "execute_result"
    }
   ],
   "source": [
    "df.columns"
   ]
  },
  {
   "cell_type": "code",
   "execution_count": 7,
   "metadata": {},
   "outputs": [
    {
     "data": {
      "text/plain": [
       "<bound method DataFrame.info of     Emp ID\\tName Prefix\\tFirst Name\\tMiddle Initial\\tLast Name\\tGender\\tE Mail\\tFather's Name\\tMother's Name\\tMother's Maiden Name\\tDate of Birth\\tTime of Birth\\tAge in Yrs.\\tWeight in Kgs.\\tDate of Joining\\tQuarter of Joining\\tHalf of Joining\\tYear of Joining\\tMonth of Joining\\tMonth Name of Joining\\tShort Month\\tDay of Joining\\tDOW of Joining\\tShort DOW\\tAge in Company (Years)\\tSalary\\tLast % Hike\\tSSN\\tPhone No. \\tPlace Name\\tCounty\\tCity\\tState\\tZip\\tRegion\\tUser Name\\tPassword\n",
       "0    850297\\tMs.\\tShawna\\tW\\tBuck\\tF\\tshawna.buck@g...                                                                                                                                                                                                                                                                                                                                                                                                                                                \n",
       "1    304721\\tMr.\\tNathaniel\\tZ\\tBurke\\tM\\tnathaniel...                                                                                                                                                                                                                                                                                                                                                                                                                                                \n",
       "2    412317\\tDrs.\\tElisabeth\\tW\\tFoster\\tF\\telisabe...                                                                                                                                                                                                                                                                                                                                                                                                                                                \n",
       "3    621375\\tMrs.\\tBriana\\tC\\tLancaster\\tF\\tbriana....                                                                                                                                                                                                                                                                                                                                                                                                                                                \n",
       "4    787549\\tHon.\\tEstella\\tL\\tPotter\\tF\\testella.p...                                                                                                                                                                                                                                                                                                                                                                                                                                                \n",
       "..                                                 ...                                                                                                                                                                                                                                                                                                                                                                                                                                                \n",
       "995  568435\\tMs.\\tBonnie\\tK\\tBaker\\tF\\tbonnie.baker...                                                                                                                                                                                                                                                                                                                                                                                                                                                \n",
       "996  597409\\tMr.\\tLuke\\tS\\tTurner\\tM\\tluke.turner@c...                                                                                                                                                                                                                                                                                                                                                                                                                                                \n",
       "997  359608\\tHon.\\tEva\\tS\\tHolman\\tF\\teva.holman@ho...                                                                                                                                                                                                                                                                                                                                                                                                                                                \n",
       "998  803426\\tMrs.\\tMaritza\\tH\\tChristian\\tF\\tmaritz...                                                                                                                                                                                                                                                                                                                                                                                                                                                \n",
       "999  669618\\tDrs.\\tPhyllis\\tH\\tDudley\\tF\\tphyllis.d...                                                                                                                                                                                                                                                                                                                                                                                                                                                \n",
       "\n",
       "[1000 rows x 1 columns]>"
      ]
     },
     "execution_count": 7,
     "metadata": {},
     "output_type": "execute_result"
    }
   ],
   "source": [
    "df.info"
   ]
  },
  {
   "cell_type": "code",
   "execution_count": 8,
   "metadata": {},
   "outputs": [
    {
     "data": {
      "text/html": [
       "<div>\n",
       "<style scoped>\n",
       "    .dataframe tbody tr th:only-of-type {\n",
       "        vertical-align: middle;\n",
       "    }\n",
       "\n",
       "    .dataframe tbody tr th {\n",
       "        vertical-align: top;\n",
       "    }\n",
       "\n",
       "    .dataframe thead th {\n",
       "        text-align: right;\n",
       "    }\n",
       "</style>\n",
       "<table border=\"1\" class=\"dataframe\">\n",
       "  <thead>\n",
       "    <tr style=\"text-align: right;\">\n",
       "      <th></th>\n",
       "      <th>Emp ID\\tName Prefix\\tFirst Name\\tMiddle Initial\\tLast Name\\tGender\\tE Mail\\tFather's Name\\tMother's Name\\tMother's Maiden Name\\tDate of Birth\\tTime of Birth\\tAge in Yrs.\\tWeight in Kgs.\\tDate of Joining\\tQuarter of Joining\\tHalf of Joining\\tYear of Joining\\tMonth of Joining\\tMonth Name of Joining\\tShort Month\\tDay of Joining\\tDOW of Joining\\tShort DOW\\tAge in Company (Years)\\tSalary\\tLast % Hike\\tSSN\\tPhone No. \\tPlace Name\\tCounty\\tCity\\tState\\tZip\\tRegion\\tUser Name\\tPassword</th>\n",
       "    </tr>\n",
       "  </thead>\n",
       "  <tbody>\n",
       "    <tr>\n",
       "      <th>count</th>\n",
       "      <td>1000</td>\n",
       "    </tr>\n",
       "    <tr>\n",
       "      <th>unique</th>\n",
       "      <td>1000</td>\n",
       "    </tr>\n",
       "    <tr>\n",
       "      <th>top</th>\n",
       "      <td>415004\\tMs.\\tRosa\\tP\\tCamacho\\tF\\trosa.camacho...</td>\n",
       "    </tr>\n",
       "    <tr>\n",
       "      <th>freq</th>\n",
       "      <td>1</td>\n",
       "    </tr>\n",
       "  </tbody>\n",
       "</table>\n",
       "</div>"
      ],
      "text/plain": [
       "       Emp ID\\tName Prefix\\tFirst Name\\tMiddle Initial\\tLast Name\\tGender\\tE Mail\\tFather's Name\\tMother's Name\\tMother's Maiden Name\\tDate of Birth\\tTime of Birth\\tAge in Yrs.\\tWeight in Kgs.\\tDate of Joining\\tQuarter of Joining\\tHalf of Joining\\tYear of Joining\\tMonth of Joining\\tMonth Name of Joining\\tShort Month\\tDay of Joining\\tDOW of Joining\\tShort DOW\\tAge in Company (Years)\\tSalary\\tLast % Hike\\tSSN\\tPhone No. \\tPlace Name\\tCounty\\tCity\\tState\\tZip\\tRegion\\tUser Name\\tPassword\n",
       "count                                                1000                                                                                                                                                                                                                                                                                                                                                                                                                                                \n",
       "unique                                               1000                                                                                                                                                                                                                                                                                                                                                                                                                                                \n",
       "top     415004\\tMs.\\tRosa\\tP\\tCamacho\\tF\\trosa.camacho...                                                                                                                                                                                                                                                                                                                                                                                                                                                \n",
       "freq                                                    1                                                                                                                                                                                                                                                                                                                                                                                                                                                "
      ]
     },
     "execution_count": 8,
     "metadata": {},
     "output_type": "execute_result"
    }
   ],
   "source": [
    "df.describe()"
   ]
  },
  {
   "cell_type": "code",
   "execution_count": 9,
   "metadata": {},
   "outputs": [
    {
     "data": {
      "text/plain": [
       "Emp ID\\tName Prefix\\tFirst Name\\tMiddle Initial\\tLast Name\\tGender\\tE Mail\\tFather's Name\\tMother's Name\\tMother's Maiden Name\\tDate of Birth\\tTime of Birth\\tAge in Yrs.\\tWeight in Kgs.\\tDate of Joining\\tQuarter of Joining\\tHalf of Joining\\tYear of Joining\\tMonth of Joining\\tMonth Name of Joining\\tShort Month\\tDay of Joining\\tDOW of Joining\\tShort DOW\\tAge in Company (Years)\\tSalary\\tLast % Hike\\tSSN\\tPhone No. \\tPlace Name\\tCounty\\tCity\\tState\\tZip\\tRegion\\tUser Name\\tPassword    0\n",
       "dtype: int64"
      ]
     },
     "execution_count": 9,
     "metadata": {},
     "output_type": "execute_result"
    }
   ],
   "source": [
    "df.isnull().sum()"
   ]
  },
  {
   "cell_type": "code",
   "execution_count": 12,
   "metadata": {},
   "outputs": [],
   "source": [
    "import seaborn as sn\n",
    "import numpy as np\n",
    "import matplotlib.pyplot as plt\n",
    "\n"
   ]
  },
  {
   "cell_type": "code",
   "execution_count": 14,
   "metadata": {},
   "outputs": [
    {
     "ename": "KeyError",
     "evalue": "'Emp ID'",
     "output_type": "error",
     "traceback": [
      "\u001b[1;31m---------------------------------------------------------------------------\u001b[0m",
      "\u001b[1;31mKeyError\u001b[0m                                  Traceback (most recent call last)",
      "\u001b[1;32m~\\anaconda3\\lib\\site-packages\\pandas\\core\\indexes\\base.py\u001b[0m in \u001b[0;36mget_loc\u001b[1;34m(self, key, method, tolerance)\u001b[0m\n\u001b[0;32m   2645\u001b[0m             \u001b[1;32mtry\u001b[0m\u001b[1;33m:\u001b[0m\u001b[1;33m\u001b[0m\u001b[1;33m\u001b[0m\u001b[0m\n\u001b[1;32m-> 2646\u001b[1;33m                 \u001b[1;32mreturn\u001b[0m \u001b[0mself\u001b[0m\u001b[1;33m.\u001b[0m\u001b[0m_engine\u001b[0m\u001b[1;33m.\u001b[0m\u001b[0mget_loc\u001b[0m\u001b[1;33m(\u001b[0m\u001b[0mkey\u001b[0m\u001b[1;33m)\u001b[0m\u001b[1;33m\u001b[0m\u001b[1;33m\u001b[0m\u001b[0m\n\u001b[0m\u001b[0;32m   2647\u001b[0m             \u001b[1;32mexcept\u001b[0m \u001b[0mKeyError\u001b[0m\u001b[1;33m:\u001b[0m\u001b[1;33m\u001b[0m\u001b[1;33m\u001b[0m\u001b[0m\n",
      "\u001b[1;32mpandas\\_libs\\index.pyx\u001b[0m in \u001b[0;36mpandas._libs.index.IndexEngine.get_loc\u001b[1;34m()\u001b[0m\n",
      "\u001b[1;32mpandas\\_libs\\index.pyx\u001b[0m in \u001b[0;36mpandas._libs.index.IndexEngine.get_loc\u001b[1;34m()\u001b[0m\n",
      "\u001b[1;32mpandas\\_libs\\hashtable_class_helper.pxi\u001b[0m in \u001b[0;36mpandas._libs.hashtable.PyObjectHashTable.get_item\u001b[1;34m()\u001b[0m\n",
      "\u001b[1;32mpandas\\_libs\\hashtable_class_helper.pxi\u001b[0m in \u001b[0;36mpandas._libs.hashtable.PyObjectHashTable.get_item\u001b[1;34m()\u001b[0m\n",
      "\u001b[1;31mKeyError\u001b[0m: 'Emp ID'",
      "\nDuring handling of the above exception, another exception occurred:\n",
      "\u001b[1;31mKeyError\u001b[0m                                  Traceback (most recent call last)",
      "\u001b[1;32m<ipython-input-14-c45d768f28d4>\u001b[0m in \u001b[0;36m<module>\u001b[1;34m\u001b[0m\n\u001b[1;32m----> 1\u001b[1;33m \u001b[0msn\u001b[0m\u001b[1;33m.\u001b[0m\u001b[0mscatterplot\u001b[0m\u001b[1;33m(\u001b[0m\u001b[0mdf\u001b[0m\u001b[1;33m[\u001b[0m\u001b[1;34m'Emp ID'\u001b[0m\u001b[1;33m]\u001b[0m\u001b[1;33m)\u001b[0m\u001b[1;33m\u001b[0m\u001b[1;33m\u001b[0m\u001b[0m\n\u001b[0m",
      "\u001b[1;32m~\\anaconda3\\lib\\site-packages\\pandas\\core\\frame.py\u001b[0m in \u001b[0;36m__getitem__\u001b[1;34m(self, key)\u001b[0m\n\u001b[0;32m   2798\u001b[0m             \u001b[1;32mif\u001b[0m \u001b[0mself\u001b[0m\u001b[1;33m.\u001b[0m\u001b[0mcolumns\u001b[0m\u001b[1;33m.\u001b[0m\u001b[0mnlevels\u001b[0m \u001b[1;33m>\u001b[0m \u001b[1;36m1\u001b[0m\u001b[1;33m:\u001b[0m\u001b[1;33m\u001b[0m\u001b[1;33m\u001b[0m\u001b[0m\n\u001b[0;32m   2799\u001b[0m                 \u001b[1;32mreturn\u001b[0m \u001b[0mself\u001b[0m\u001b[1;33m.\u001b[0m\u001b[0m_getitem_multilevel\u001b[0m\u001b[1;33m(\u001b[0m\u001b[0mkey\u001b[0m\u001b[1;33m)\u001b[0m\u001b[1;33m\u001b[0m\u001b[1;33m\u001b[0m\u001b[0m\n\u001b[1;32m-> 2800\u001b[1;33m             \u001b[0mindexer\u001b[0m \u001b[1;33m=\u001b[0m \u001b[0mself\u001b[0m\u001b[1;33m.\u001b[0m\u001b[0mcolumns\u001b[0m\u001b[1;33m.\u001b[0m\u001b[0mget_loc\u001b[0m\u001b[1;33m(\u001b[0m\u001b[0mkey\u001b[0m\u001b[1;33m)\u001b[0m\u001b[1;33m\u001b[0m\u001b[1;33m\u001b[0m\u001b[0m\n\u001b[0m\u001b[0;32m   2801\u001b[0m             \u001b[1;32mif\u001b[0m \u001b[0mis_integer\u001b[0m\u001b[1;33m(\u001b[0m\u001b[0mindexer\u001b[0m\u001b[1;33m)\u001b[0m\u001b[1;33m:\u001b[0m\u001b[1;33m\u001b[0m\u001b[1;33m\u001b[0m\u001b[0m\n\u001b[0;32m   2802\u001b[0m                 \u001b[0mindexer\u001b[0m \u001b[1;33m=\u001b[0m \u001b[1;33m[\u001b[0m\u001b[0mindexer\u001b[0m\u001b[1;33m]\u001b[0m\u001b[1;33m\u001b[0m\u001b[1;33m\u001b[0m\u001b[0m\n",
      "\u001b[1;32m~\\anaconda3\\lib\\site-packages\\pandas\\core\\indexes\\base.py\u001b[0m in \u001b[0;36mget_loc\u001b[1;34m(self, key, method, tolerance)\u001b[0m\n\u001b[0;32m   2646\u001b[0m                 \u001b[1;32mreturn\u001b[0m \u001b[0mself\u001b[0m\u001b[1;33m.\u001b[0m\u001b[0m_engine\u001b[0m\u001b[1;33m.\u001b[0m\u001b[0mget_loc\u001b[0m\u001b[1;33m(\u001b[0m\u001b[0mkey\u001b[0m\u001b[1;33m)\u001b[0m\u001b[1;33m\u001b[0m\u001b[1;33m\u001b[0m\u001b[0m\n\u001b[0;32m   2647\u001b[0m             \u001b[1;32mexcept\u001b[0m \u001b[0mKeyError\u001b[0m\u001b[1;33m:\u001b[0m\u001b[1;33m\u001b[0m\u001b[1;33m\u001b[0m\u001b[0m\n\u001b[1;32m-> 2648\u001b[1;33m                 \u001b[1;32mreturn\u001b[0m \u001b[0mself\u001b[0m\u001b[1;33m.\u001b[0m\u001b[0m_engine\u001b[0m\u001b[1;33m.\u001b[0m\u001b[0mget_loc\u001b[0m\u001b[1;33m(\u001b[0m\u001b[0mself\u001b[0m\u001b[1;33m.\u001b[0m\u001b[0m_maybe_cast_indexer\u001b[0m\u001b[1;33m(\u001b[0m\u001b[0mkey\u001b[0m\u001b[1;33m)\u001b[0m\u001b[1;33m)\u001b[0m\u001b[1;33m\u001b[0m\u001b[1;33m\u001b[0m\u001b[0m\n\u001b[0m\u001b[0;32m   2649\u001b[0m         \u001b[0mindexer\u001b[0m \u001b[1;33m=\u001b[0m \u001b[0mself\u001b[0m\u001b[1;33m.\u001b[0m\u001b[0mget_indexer\u001b[0m\u001b[1;33m(\u001b[0m\u001b[1;33m[\u001b[0m\u001b[0mkey\u001b[0m\u001b[1;33m]\u001b[0m\u001b[1;33m,\u001b[0m \u001b[0mmethod\u001b[0m\u001b[1;33m=\u001b[0m\u001b[0mmethod\u001b[0m\u001b[1;33m,\u001b[0m \u001b[0mtolerance\u001b[0m\u001b[1;33m=\u001b[0m\u001b[0mtolerance\u001b[0m\u001b[1;33m)\u001b[0m\u001b[1;33m\u001b[0m\u001b[1;33m\u001b[0m\u001b[0m\n\u001b[0;32m   2650\u001b[0m         \u001b[1;32mif\u001b[0m \u001b[0mindexer\u001b[0m\u001b[1;33m.\u001b[0m\u001b[0mndim\u001b[0m \u001b[1;33m>\u001b[0m \u001b[1;36m1\u001b[0m \u001b[1;32mor\u001b[0m \u001b[0mindexer\u001b[0m\u001b[1;33m.\u001b[0m\u001b[0msize\u001b[0m \u001b[1;33m>\u001b[0m \u001b[1;36m1\u001b[0m\u001b[1;33m:\u001b[0m\u001b[1;33m\u001b[0m\u001b[1;33m\u001b[0m\u001b[0m\n",
      "\u001b[1;32mpandas\\_libs\\index.pyx\u001b[0m in \u001b[0;36mpandas._libs.index.IndexEngine.get_loc\u001b[1;34m()\u001b[0m\n",
      "\u001b[1;32mpandas\\_libs\\index.pyx\u001b[0m in \u001b[0;36mpandas._libs.index.IndexEngine.get_loc\u001b[1;34m()\u001b[0m\n",
      "\u001b[1;32mpandas\\_libs\\hashtable_class_helper.pxi\u001b[0m in \u001b[0;36mpandas._libs.hashtable.PyObjectHashTable.get_item\u001b[1;34m()\u001b[0m\n",
      "\u001b[1;32mpandas\\_libs\\hashtable_class_helper.pxi\u001b[0m in \u001b[0;36mpandas._libs.hashtable.PyObjectHashTable.get_item\u001b[1;34m()\u001b[0m\n",
      "\u001b[1;31mKeyError\u001b[0m: 'Emp ID'"
     ]
    }
   ],
   "source": [
    "sn.scatterplot(df['Emp ID'])"
   ]
  }
 ],
 "metadata": {
  "kernelspec": {
   "display_name": "Python 3",
   "language": "python",
   "name": "python3"
  },
  "language_info": {
   "codemirror_mode": {
    "name": "ipython",
    "version": 3
   },
   "file_extension": ".py",
   "mimetype": "text/x-python",
   "name": "python",
   "nbconvert_exporter": "python",
   "pygments_lexer": "ipython3",
   "version": "3.8.3"
  }
 },
 "nbformat": 4,
 "nbformat_minor": 4
}
